{
 "cells": [
  {
   "cell_type": "code",
   "execution_count": 1,
   "id": "aa1ef0f9",
   "metadata": {},
   "outputs": [
    {
     "name": "stdout",
     "output_type": "stream",
     "text": [
      "Loading data from data/preprocessed_data.json\n"
     ]
    }
   ],
   "source": [
    "#data/preprocessed_data.json load\n",
    "import json\n",
    "import os\n",
    "from typing import List, Dict\n",
    "# 데이터 로드\n",
    "def load_data(file_path: str) -> List[Dict]:\n",
    "    if not os.path.exists(file_path):\n",
    "        print('파일을 찾을 수 없습니다')\n",
    "        raise FileNotFoundError(f\"파일을 찾을 수 없습니다: {file_path}\")\n",
    "    print(f\"Loading data from {file_path}\")\n",
    "    with open(file_path, 'r', encoding='utf-8') as file:\n",
    "        data = json.load(file)\n",
    "    \n",
    "    return data\n",
    "\n",
    "data = load_data(\"data/preprocessed_data.json\")\n"
   ]
  },
  {
   "cell_type": "code",
   "execution_count": 4,
   "id": "eaf423a6",
   "metadata": {},
   "outputs": [
    {
     "name": "stdout",
     "output_type": "stream",
     "text": [
      "1182\n"
     ]
    }
   ],
   "source": [
    "# 리스트 안의 expression 값이 ''가 아닌 경우 카운트\n",
    "expression_data = [item for item in data if item['expression'] != '']\n",
    "print(len(expression_data))"
   ]
  },
  {
   "cell_type": "code",
   "execution_count": 5,
   "id": "c0bf92aa",
   "metadata": {},
   "outputs": [
    {
     "name": "stdout",
     "output_type": "stream",
     "text": [
      "6573\n"
     ]
    }
   ],
   "source": [
    "print(len(data))"
   ]
  },
  {
   "cell_type": "code",
   "execution_count": 7,
   "id": "ea5bde19",
   "metadata": {},
   "outputs": [
    {
     "name": "stdout",
     "output_type": "stream",
     "text": [
      "0.8201734367868553\n"
     ]
    }
   ],
   "source": [
    "print(1 - len(expression_data) / len(data))"
   ]
  }
 ],
 "metadata": {
  "kernelspec": {
   "display_name": "final",
   "language": "python",
   "name": "python3"
  },
  "language_info": {
   "codemirror_mode": {
    "name": "ipython",
    "version": 3
   },
   "file_extension": ".py",
   "mimetype": "text/x-python",
   "name": "python",
   "nbconvert_exporter": "python",
   "pygments_lexer": "ipython3",
   "version": "3.10.18"
  }
 },
 "nbformat": 4,
 "nbformat_minor": 5
}
