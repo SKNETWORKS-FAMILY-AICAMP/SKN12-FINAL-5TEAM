{
 "cells": [
  {
   "cell_type": "code",
   "execution_count": 5,
   "id": "3f2565ad",
   "metadata": {},
   "outputs": [
    {
     "name": "stdout",
     "output_type": "stream",
     "text": [
      "c:\\final_git\\SKN12-FINAL-5TEAM\n",
      "c:\\final_git\\SKN12-FINAL-5TEAM\\data\\ML\n",
      "scikit-learn 및 관련 라이브러리 임포트 완료!\n"
     ]
    }
   ],
   "source": [
    "# scikit-learn 설치 및 임포트\n",
    "import numpy as np\n",
    "import pandas as pd\n",
    "from sklearn.model_selection import cross_val_score, GridSearchCV\n",
    "from sklearn.ensemble import RandomForestRegressor, GradientBoostingRegressor\n",
    "from sklearn.metrics import mean_squared_error, r2_score\n",
    "import os\n",
    "from itertools import product\n",
    "\n",
    "# 데이터 경로 (os.path.join 사용, 절대 경로)\n",
    "BASE_DIR = os.path.dirname(os.path.dirname(os.getcwd()))  # ml_code 폴더의 상위 폴더로 이동\n",
    "DATA_DIR = os.path.join(BASE_DIR, 'data', 'ML')\n",
    "\n",
    "print(BASE_DIR)\n",
    "print(DATA_DIR)\n",
    "print(\"scikit-learn 및 관련 라이브러리 임포트 완료!\")"
   ]
  },
  {
   "cell_type": "markdown",
   "id": "a0fc4675",
   "metadata": {},
   "source": [
    "### 준비"
   ]
  },
  {
   "cell_type": "code",
   "execution_count": 2,
   "id": "79d9bc7e",
   "metadata": {},
   "outputs": [
    {
     "data": {
      "text/html": [
       "<div>\n",
       "<style scoped>\n",
       "    .dataframe tbody tr th:only-of-type {\n",
       "        vertical-align: middle;\n",
       "    }\n",
       "\n",
       "    .dataframe tbody tr th {\n",
       "        vertical-align: top;\n",
       "    }\n",
       "\n",
       "    .dataframe thead th {\n",
       "        text-align: right;\n",
       "    }\n",
       "</style>\n",
       "<table border=\"1\" class=\"dataframe\">\n",
       "  <thead>\n",
       "    <tr style=\"text-align: right;\">\n",
       "      <th></th>\n",
       "      <th>f0</th>\n",
       "      <th>f1</th>\n",
       "      <th>f2</th>\n",
       "      <th>f3</th>\n",
       "      <th>f4</th>\n",
       "      <th>f5</th>\n",
       "      <th>f6</th>\n",
       "      <th>f7</th>\n",
       "      <th>f8</th>\n",
       "      <th>f9</th>\n",
       "      <th>...</th>\n",
       "      <th>f1527</th>\n",
       "      <th>f1528</th>\n",
       "      <th>f1529</th>\n",
       "      <th>f1530</th>\n",
       "      <th>f1531</th>\n",
       "      <th>f1532</th>\n",
       "      <th>f1533</th>\n",
       "      <th>f1534</th>\n",
       "      <th>f1535</th>\n",
       "      <th>score</th>\n",
       "    </tr>\n",
       "  </thead>\n",
       "  <tbody>\n",
       "    <tr>\n",
       "      <th>0</th>\n",
       "      <td>-0.454308</td>\n",
       "      <td>-0.191012</td>\n",
       "      <td>0.079864</td>\n",
       "      <td>-0.534569</td>\n",
       "      <td>-0.068804</td>\n",
       "      <td>0.017660</td>\n",
       "      <td>0.224310</td>\n",
       "      <td>-0.269141</td>\n",
       "      <td>-0.361705</td>\n",
       "      <td>0.053733</td>\n",
       "      <td>...</td>\n",
       "      <td>0.491733</td>\n",
       "      <td>0.359190</td>\n",
       "      <td>-0.123756</td>\n",
       "      <td>-0.515413</td>\n",
       "      <td>0.105428</td>\n",
       "      <td>0.175339</td>\n",
       "      <td>0.072150</td>\n",
       "      <td>-0.036318</td>\n",
       "      <td>-0.250155</td>\n",
       "      <td>48.7933</td>\n",
       "    </tr>\n",
       "    <tr>\n",
       "      <th>1</th>\n",
       "      <td>0.006021</td>\n",
       "      <td>-0.706709</td>\n",
       "      <td>-0.360626</td>\n",
       "      <td>-0.347866</td>\n",
       "      <td>0.355289</td>\n",
       "      <td>0.699073</td>\n",
       "      <td>-0.213558</td>\n",
       "      <td>0.278139</td>\n",
       "      <td>-0.362823</td>\n",
       "      <td>0.273964</td>\n",
       "      <td>...</td>\n",
       "      <td>0.746505</td>\n",
       "      <td>0.164486</td>\n",
       "      <td>-0.271899</td>\n",
       "      <td>0.004447</td>\n",
       "      <td>0.757929</td>\n",
       "      <td>-0.417573</td>\n",
       "      <td>0.060278</td>\n",
       "      <td>-0.676335</td>\n",
       "      <td>-0.297556</td>\n",
       "      <td>48.3933</td>\n",
       "    </tr>\n",
       "    <tr>\n",
       "      <th>2</th>\n",
       "      <td>-0.197276</td>\n",
       "      <td>-0.294467</td>\n",
       "      <td>0.414493</td>\n",
       "      <td>-0.373786</td>\n",
       "      <td>0.317888</td>\n",
       "      <td>0.066508</td>\n",
       "      <td>-0.189156</td>\n",
       "      <td>0.228830</td>\n",
       "      <td>-0.402630</td>\n",
       "      <td>0.703705</td>\n",
       "      <td>...</td>\n",
       "      <td>0.317407</td>\n",
       "      <td>0.204780</td>\n",
       "      <td>-0.016202</td>\n",
       "      <td>-0.265335</td>\n",
       "      <td>0.574012</td>\n",
       "      <td>-0.274860</td>\n",
       "      <td>-0.171743</td>\n",
       "      <td>-0.043548</td>\n",
       "      <td>-0.318174</td>\n",
       "      <td>51.4933</td>\n",
       "    </tr>\n",
       "    <tr>\n",
       "      <th>3</th>\n",
       "      <td>0.208798</td>\n",
       "      <td>-0.105023</td>\n",
       "      <td>-0.051948</td>\n",
       "      <td>-0.191882</td>\n",
       "      <td>0.193627</td>\n",
       "      <td>-0.091749</td>\n",
       "      <td>0.241087</td>\n",
       "      <td>0.238545</td>\n",
       "      <td>0.159051</td>\n",
       "      <td>0.491462</td>\n",
       "      <td>...</td>\n",
       "      <td>0.609287</td>\n",
       "      <td>0.674161</td>\n",
       "      <td>-0.049371</td>\n",
       "      <td>0.001968</td>\n",
       "      <td>0.019721</td>\n",
       "      <td>-0.094569</td>\n",
       "      <td>-0.111176</td>\n",
       "      <td>-0.318199</td>\n",
       "      <td>-0.488020</td>\n",
       "      <td>43.9800</td>\n",
       "    </tr>\n",
       "    <tr>\n",
       "      <th>4</th>\n",
       "      <td>-0.112501</td>\n",
       "      <td>-0.304849</td>\n",
       "      <td>-0.043498</td>\n",
       "      <td>-0.297551</td>\n",
       "      <td>0.484919</td>\n",
       "      <td>-0.212221</td>\n",
       "      <td>0.086554</td>\n",
       "      <td>-0.089514</td>\n",
       "      <td>-0.218532</td>\n",
       "      <td>0.533597</td>\n",
       "      <td>...</td>\n",
       "      <td>1.009515</td>\n",
       "      <td>0.507447</td>\n",
       "      <td>0.081017</td>\n",
       "      <td>0.218226</td>\n",
       "      <td>0.862200</td>\n",
       "      <td>-0.710890</td>\n",
       "      <td>0.140288</td>\n",
       "      <td>-0.419778</td>\n",
       "      <td>0.308251</td>\n",
       "      <td>47.0967</td>\n",
       "    </tr>\n",
       "  </tbody>\n",
       "</table>\n",
       "<p>5 rows × 1537 columns</p>\n",
       "</div>"
      ],
      "text/plain": [
       "         f0        f1        f2        f3        f4        f5        f6  \\\n",
       "0 -0.454308 -0.191012  0.079864 -0.534569 -0.068804  0.017660  0.224310   \n",
       "1  0.006021 -0.706709 -0.360626 -0.347866  0.355289  0.699073 -0.213558   \n",
       "2 -0.197276 -0.294467  0.414493 -0.373786  0.317888  0.066508 -0.189156   \n",
       "3  0.208798 -0.105023 -0.051948 -0.191882  0.193627 -0.091749  0.241087   \n",
       "4 -0.112501 -0.304849 -0.043498 -0.297551  0.484919 -0.212221  0.086554   \n",
       "\n",
       "         f7        f8        f9  ...     f1527     f1528     f1529     f1530  \\\n",
       "0 -0.269141 -0.361705  0.053733  ...  0.491733  0.359190 -0.123756 -0.515413   \n",
       "1  0.278139 -0.362823  0.273964  ...  0.746505  0.164486 -0.271899  0.004447   \n",
       "2  0.228830 -0.402630  0.703705  ...  0.317407  0.204780 -0.016202 -0.265335   \n",
       "3  0.238545  0.159051  0.491462  ...  0.609287  0.674161 -0.049371  0.001968   \n",
       "4 -0.089514 -0.218532  0.533597  ...  1.009515  0.507447  0.081017  0.218226   \n",
       "\n",
       "      f1531     f1532     f1533     f1534     f1535    score  \n",
       "0  0.105428  0.175339  0.072150 -0.036318 -0.250155  48.7933  \n",
       "1  0.757929 -0.417573  0.060278 -0.676335 -0.297556  48.3933  \n",
       "2  0.574012 -0.274860 -0.171743 -0.043548 -0.318174  51.4933  \n",
       "3  0.019721 -0.094569 -0.111176 -0.318199 -0.488020  43.9800  \n",
       "4  0.862200 -0.710890  0.140288 -0.419778  0.308251  47.0967  \n",
       "\n",
       "[5 rows x 1537 columns]"
      ]
     },
     "execution_count": 2,
     "metadata": {},
     "output_type": "execute_result"
    }
   ],
   "source": [
    "# npz 불러오기\n",
    "train = np.load(os.path.join(DATA_DIR, \"train_set.npz\"))\n",
    "X_train = train[\"X\"]\n",
    "y_train = train[\"y\"]\n",
    "\n",
    "# 컬럼 이름 만들기\n",
    "n_features = X_train.shape[1]\n",
    "feature_columns = [f\"f{i}\" for i in range(n_features)]\n",
    "\n",
    "# DataFrame 생성\n",
    "df_train = pd.DataFrame(X_train, columns=feature_columns)\n",
    "df_train[\"score\"] = y_train # 종속변수 추가\n",
    "\n",
    "val = np.load(os.path.join(DATA_DIR, \"val_set.npz\"))\n",
    "X_val = val[\"X\"]\n",
    "y_val = val[\"y\"]\n",
    "df_val = pd.DataFrame(X_val, columns=feature_columns)\n",
    "df_val[\"score\"] = y_val # 종속변수 추가\n",
    "\n",
    "test = np.load(os.path.join(DATA_DIR, \"test_set.npz\"))\n",
    "X_test = test[\"X\"]\n",
    "y_test = test[\"y\"]\n",
    "df_test = pd.DataFrame(X_test, columns=feature_columns)\n",
    "df_test[\"score\"] = y_test # 종속변수 추가\n",
    "\n",
    "df_train.head()"
   ]
  },
  {
   "cell_type": "markdown",
   "id": "c6486b32",
   "metadata": {},
   "source": [
    "### RandomForest 모델 정의"
   ]
  },
  {
   "cell_type": "code",
   "execution_count": 7,
   "id": "f6454047",
   "metadata": {},
   "outputs": [
    {
     "name": "stdout",
     "output_type": "stream",
     "text": [
      "RandomForest 기본 파라미터로 학습...\n",
      "RF Validation RMSE: 6.0485\n",
      "RF Validation R²: 0.2974\n"
     ]
    },
    {
     "name": "stderr",
     "output_type": "stream",
     "text": [
      "c:\\Users\\Playdata\\AppData\\Local\\miniconda3\\envs\\mo\\lib\\site-packages\\sklearn\\metrics\\_regression.py:492: FutureWarning: 'squared' is deprecated in version 1.4 and will be removed in 1.6. To calculate the root mean squared error, use the function'root_mean_squared_error'.\n",
      "  warnings.warn(\n"
     ]
    }
   ],
   "source": [
    "# 훈련 및 검증 데이터 준비\n",
    "X_train_features = df_train.drop('score', axis=1)\n",
    "y_train_target = df_train['score']\n",
    "X_val_features = df_val.drop('score', axis=1)\n",
    "y_val_target = df_val['score']\n",
    "\n",
    "# RandomForest 기본 파라미터로 학습\n",
    "print(\"RandomForest 기본 파라미터로 학습...\")\n",
    "rf_model = RandomForestRegressor(random_state=42, n_jobs=-1)\n",
    "\n",
    "# 훈련\n",
    "rf_model.fit(X_train_features, y_train_target)\n",
    "\n",
    "# 검증셋으로 평가\n",
    "rf_val_pred = rf_model.predict(X_val_features)\n",
    "rf_val_rmse = mean_squared_error(y_val_target, rf_val_pred, squared=False)\n",
    "rf_val_r2 = r2_score(y_val_target, rf_val_pred)\n",
    "\n",
    "print(f\"RF Validation RMSE: {rf_val_rmse:.4f}\")\n",
    "print(f\"RF Validation R²: {rf_val_r2:.4f}\")\n",
    "\n",
    "# 변수명 통일을 위해\n",
    "best_rf_model = rf_model"
   ]
  },
  {
   "cell_type": "markdown",
   "id": "25143fda",
   "metadata": {},
   "source": [
    "### GradientBoosting 모델 정의"
   ]
  },
  {
   "cell_type": "code",
   "execution_count": 8,
   "id": "007ef742",
   "metadata": {},
   "outputs": [
    {
     "name": "stdout",
     "output_type": "stream",
     "text": [
      "GradientBoosting 기본 파라미터로 학습...\n"
     ]
    },
    {
     "name": "stdout",
     "output_type": "stream",
     "text": [
      "GB Validation RMSE: 5.8446\n",
      "GB Validation R²: 0.3440\n"
     ]
    },
    {
     "name": "stderr",
     "output_type": "stream",
     "text": [
      "c:\\Users\\Playdata\\AppData\\Local\\miniconda3\\envs\\mo\\lib\\site-packages\\sklearn\\metrics\\_regression.py:492: FutureWarning: 'squared' is deprecated in version 1.4 and will be removed in 1.6. To calculate the root mean squared error, use the function'root_mean_squared_error'.\n",
      "  warnings.warn(\n"
     ]
    }
   ],
   "source": [
    "# GradientBoosting 기본 파라미터로 학습\n",
    "print(\"GradientBoosting 기본 파라미터로 학습...\")\n",
    "gb_model = GradientBoostingRegressor(random_state=42)\n",
    "\n",
    "# 훈련\n",
    "gb_model.fit(X_train_features, y_train_target)\n",
    "\n",
    "# 검증셋으로 평가\n",
    "gb_val_pred = gb_model.predict(X_val_features)\n",
    "gb_val_rmse = mean_squared_error(y_val_target, gb_val_pred, squared=False)\n",
    "gb_val_r2 = r2_score(y_val_target, gb_val_pred)\n",
    "\n",
    "print(f\"GB Validation RMSE: {gb_val_rmse:.4f}\")\n",
    "print(f\"GB Validation R²: {gb_val_r2:.4f}\")\n",
    "\n",
    "# 변수명 통일을 위해\n",
    "best_gb_model = gb_model"
   ]
  },
  {
   "cell_type": "markdown",
   "id": "7fcb3e32",
   "metadata": {},
   "source": [
    "### 평가"
   ]
  },
  {
   "cell_type": "code",
   "execution_count": 12,
   "id": "16fae790",
   "metadata": {},
   "outputs": [
    {
     "name": "stdout",
     "output_type": "stream",
     "text": [
      "=== 테스트 셋 최종 평가 ===\n",
      "테스트 셋 성능 비교:\n"
     ]
    },
    {
     "name": "stderr",
     "output_type": "stream",
     "text": [
      "c:\\Users\\Playdata\\AppData\\Local\\miniconda3\\envs\\mo\\lib\\site-packages\\sklearn\\metrics\\_regression.py:492: FutureWarning: 'squared' is deprecated in version 1.4 and will be removed in 1.6. To calculate the root mean squared error, use the function'root_mean_squared_error'.\n",
      "  warnings.warn(\n",
      "c:\\Users\\Playdata\\AppData\\Local\\miniconda3\\envs\\mo\\lib\\site-packages\\sklearn\\metrics\\_regression.py:492: FutureWarning: 'squared' is deprecated in version 1.4 and will be removed in 1.6. To calculate the root mean squared error, use the function'root_mean_squared_error'.\n",
      "  warnings.warn(\n"
     ]
    },
    {
     "data": {
      "text/html": [
       "<div>\n",
       "<style scoped>\n",
       "    .dataframe tbody tr th:only-of-type {\n",
       "        vertical-align: middle;\n",
       "    }\n",
       "\n",
       "    .dataframe tbody tr th {\n",
       "        vertical-align: top;\n",
       "    }\n",
       "\n",
       "    .dataframe thead th {\n",
       "        text-align: right;\n",
       "    }\n",
       "</style>\n",
       "<table border=\"1\" class=\"dataframe\">\n",
       "  <thead>\n",
       "    <tr style=\"text-align: right;\">\n",
       "      <th></th>\n",
       "      <th>모델</th>\n",
       "      <th>RMSE</th>\n",
       "      <th>R²</th>\n",
       "    </tr>\n",
       "  </thead>\n",
       "  <tbody>\n",
       "    <tr>\n",
       "      <th>0</th>\n",
       "      <td>RandomForest</td>\n",
       "      <td>5.4197</td>\n",
       "      <td>0.3201</td>\n",
       "    </tr>\n",
       "    <tr>\n",
       "      <th>1</th>\n",
       "      <td>GradientBoosting</td>\n",
       "      <td>5.3435</td>\n",
       "      <td>0.3391</td>\n",
       "    </tr>\n",
       "  </tbody>\n",
       "</table>\n",
       "</div>"
      ],
      "text/plain": [
       "                 모델    RMSE      R²\n",
       "0      RandomForest  5.4197  0.3201\n",
       "1  GradientBoosting  5.3435  0.3391"
      ]
     },
     "execution_count": 12,
     "metadata": {},
     "output_type": "execute_result"
    }
   ],
   "source": [
    "import pandas as pd\n",
    "from sklearn.metrics import mean_squared_error, r2_score\n",
    "\n",
    "# 테스트 셋 준비\n",
    "X_test_features = df_test.drop('score', axis=1)\n",
    "y_test_target = df_test['score']\n",
    "\n",
    "# 두 모델의 테스트 성능 비교\n",
    "print(\"=== 테스트 셋 최종 평가 ===\")\n",
    "\n",
    "# RandomForest 테스트 평가\n",
    "rf_test_pred = best_rf_model.predict(X_test_features)\n",
    "rf_test_rmse = mean_squared_error(y_test_target, rf_test_pred, squared=False)\n",
    "rf_test_r2 = r2_score(y_test_target, rf_test_pred)\n",
    "\n",
    "# GradientBoosting 테스트 평가\n",
    "gb_test_pred = best_gb_model.predict(X_test_features)\n",
    "gb_test_rmse = mean_squared_error(y_test_target, gb_test_pred, squared=False)\n",
    "gb_test_r2 = r2_score(y_test_target, gb_test_pred)\n",
    "\n",
    "# 결과를 표로 정리\n",
    "results_df = pd.DataFrame({\n",
    "    '모델': ['RandomForest', 'GradientBoosting'],\n",
    "    'RMSE': [round(rf_test_rmse, 4), round(gb_test_rmse, 4)],\n",
    "    'R²': [round(rf_test_r2, 4), round(gb_test_r2, 4)]\n",
    "})\n",
    "\n",
    "print(\"테스트 셋 성능 비교:\")\n",
    "results_df"
   ]
  },
  {
   "cell_type": "markdown",
   "id": "d3111cfb",
   "metadata": {},
   "source": []
  }
 ],
 "metadata": {
  "kernelspec": {
   "display_name": "mo",
   "language": "python",
   "name": "python3"
  },
  "language_info": {
   "codemirror_mode": {
    "name": "ipython",
    "version": 3
   },
   "file_extension": ".py",
   "mimetype": "text/x-python",
   "name": "python",
   "nbconvert_exporter": "python",
   "pygments_lexer": "ipython3",
   "version": "3.10.18"
  }
 },
 "nbformat": 4,
 "nbformat_minor": 5
}
