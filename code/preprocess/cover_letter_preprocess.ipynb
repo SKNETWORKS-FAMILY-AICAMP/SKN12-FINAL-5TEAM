{
 "cells": [
  {
   "cell_type": "code",
   "execution_count": 21,
   "id": "db3c5a73",
   "metadata": {},
   "outputs": [
    {
     "name": "stdout",
     "output_type": "stream",
     "text": [
      "c:\\Users\\Playdata\\github\\SKN12-FINAL-5TEAM\n",
      "c:\\Users\\Playdata\\github\\SKN12-FINAL-5TEAM\\data\n"
     ]
    }
   ],
   "source": [
    "import json\n",
    "import os\n",
    "import re\n",
    "from tqdm import tqdm\n",
    "import pandas as pd\n",
    "\n",
    "# 데이터 경로 (os.path.join 사용, 절대 경로)\n",
    "BASE_DIR = os.path.dirname(os.path.dirname(os.getcwd()))  # ../을 두번 한 것임\n",
    "DATA_DIR = os.path.join(BASE_DIR, 'data')\n",
    "os.makedirs(DATA_DIR, exist_ok=True)\n",
    "print(BASE_DIR)\n",
    "print(DATA_DIR)"
   ]
  },
  {
   "cell_type": "code",
   "execution_count": 27,
   "id": "7acb4085",
   "metadata": {},
   "outputs": [
    {
     "data": {
      "text/html": [
       "<div>\n",
       "<style scoped>\n",
       "    .dataframe tbody tr th:only-of-type {\n",
       "        vertical-align: middle;\n",
       "    }\n",
       "\n",
       "    .dataframe tbody tr th {\n",
       "        vertical-align: top;\n",
       "    }\n",
       "\n",
       "    .dataframe thead th {\n",
       "        text-align: right;\n",
       "    }\n",
       "</style>\n",
       "<table border=\"1\" class=\"dataframe\">\n",
       "  <thead>\n",
       "    <tr style=\"text-align: right;\">\n",
       "      <th></th>\n",
       "      <th>cl_id</th>\n",
       "      <th>title</th>\n",
       "      <th>posi</th>\n",
       "      <th>content</th>\n",
       "    </tr>\n",
       "  </thead>\n",
       "  <tbody>\n",
       "    <tr>\n",
       "      <th>0</th>\n",
       "      <td>1</td>\n",
       "      <td>네이버_2021년_인턴_웹개발자</td>\n",
       "      <td>1</td>\n",
       "      <td>Q1. NAVER 인턴십에 지원하신 동기와 기대하시는 바를 말씀해주세요.\\n\\n제가...</td>\n",
       "    </tr>\n",
       "    <tr>\n",
       "      <th>1</th>\n",
       "      <td>2</td>\n",
       "      <td>네이버_2021년_신입_앱개발자</td>\n",
       "      <td>1</td>\n",
       "      <td>Q1.\\n가장 자신 있는 또는 좋아하는 컴퓨터공학 관련 이수 과목명과 성적, 그리고...</td>\n",
       "    </tr>\n",
       "    <tr>\n",
       "      <th>2</th>\n",
       "      <td>3</td>\n",
       "      <td>네이버_2021년_신입_앱개발자</td>\n",
       "      <td>1</td>\n",
       "      <td>Q1.\\n[필수] *** 작성해주시는 답변 모두 개발자가 검토할 거예요. 소스로, ...</td>\n",
       "    </tr>\n",
       "    <tr>\n",
       "      <th>3</th>\n",
       "      <td>4</td>\n",
       "      <td>네이버_2020년_신입_웹개발자</td>\n",
       "      <td>1</td>\n",
       "      <td>Q1.\\n다음 중 자신 있는 분야를 우선순위 별로 작성해주세요. ■ FE 개발 ■ ...</td>\n",
       "    </tr>\n",
       "    <tr>\n",
       "      <th>4</th>\n",
       "      <td>5</td>\n",
       "      <td>네이버_2019년_신입_앱개발자</td>\n",
       "      <td>1</td>\n",
       "      <td>Q1.\\n어려운 기술적 문제를 해결한 경험을 구체적으로 이야기 해주세요.\\n\\nOO...</td>\n",
       "    </tr>\n",
       "  </tbody>\n",
       "</table>\n",
       "</div>"
      ],
      "text/plain": [
       "   cl_id              title  posi  \\\n",
       "0      1  네이버_2021년_인턴_웹개발자     1   \n",
       "1      2  네이버_2021년_신입_앱개발자     1   \n",
       "2      3  네이버_2021년_신입_앱개발자     1   \n",
       "3      4  네이버_2020년_신입_웹개발자     1   \n",
       "4      5  네이버_2019년_신입_앱개발자     1   \n",
       "\n",
       "                                             content  \n",
       "0  Q1. NAVER 인턴십에 지원하신 동기와 기대하시는 바를 말씀해주세요.\\n\\n제가...  \n",
       "1  Q1.\\n가장 자신 있는 또는 좋아하는 컴퓨터공학 관련 이수 과목명과 성적, 그리고...  \n",
       "2  Q1.\\n[필수] *** 작성해주시는 답변 모두 개발자가 검토할 거예요. 소스로, ...  \n",
       "3  Q1.\\n다음 중 자신 있는 분야를 우선순위 별로 작성해주세요. ■ FE 개발 ■ ...  \n",
       "4  Q1.\\n어려운 기술적 문제를 해결한 경험을 구체적으로 이야기 해주세요.\\n\\nOO...  "
      ]
     },
     "execution_count": 27,
     "metadata": {},
     "output_type": "execute_result"
    }
   ],
   "source": [
    "# data_dir을 통해 cover_letter.json 파일 경로 설정\n",
    "COVER_LETTER_FILE = os.path.join(DATA_DIR, 'cover_letter.json')\n",
    "\n",
    "# jsosn 파일 읽기\n",
    "def read_json(file_path):\n",
    "    with open(file_path, 'r', encoding='utf-8') as file:\n",
    "        return json.load(file)\n",
    "\n",
    "# read_json 함수를 사용하여 cover_letter.json 파일 읽기\n",
    "cover_letter_data = read_json(COVER_LETTER_FILE)\n",
    "# pandas DataFrame으로 변환\n",
    "df = pd.DataFrame(cover_letter_data)\n",
    "# DataFrame의 첫 5개 행 출력\n",
    "df.head()"
   ]
  },
  {
   "cell_type": "markdown",
   "id": "653906d4",
   "metadata": {},
   "source": [
    "### 전처리 함수 정의"
   ]
  },
  {
   "cell_type": "code",
   "execution_count": 28,
   "id": "f0e2a1c1",
   "metadata": {},
   "outputs": [],
   "source": [
    "def preprocess_text(text):\n",
    "    text = text.replace(\"\\\\n\", \"\\n\") # 줄바꿈 문자 처리\n",
    "    return text"
   ]
  },
  {
   "cell_type": "markdown",
   "id": "1ef4ed42",
   "metadata": {},
   "source": [
    "### 전처리 실행"
   ]
  },
  {
   "cell_type": "code",
   "execution_count": 29,
   "id": "a71ad485",
   "metadata": {},
   "outputs": [],
   "source": [
    "\n",
    "# df의 content 열에 대해 전처리 함수 적용\n",
    "df['content'] = df['content'].apply(preprocess_text)\n",
    "# 전처리된 DataFrame을 JSON 파일로 저장\n",
    "PREPROCESSED_FILE = os.path.join(DATA_DIR, 'cover_letter.json')\n",
    "\n",
    "# DataFrame을 JSON 파일로 저장하는 함수 정의\n",
    "def save_to_json(df, file_path):\n",
    "    with open(file_path, 'w', encoding='utf-8') as file:\n",
    "        json.dump(df.to_dict(orient='records'), file, ensure_ascii=False, indent=4)\n",
    "# 전처리된 DataFrame을 JSON 파일로 저장\n",
    "save_to_json(df, PREPROCESSED_FILE)"
   ]
  }
 ],
 "metadata": {
  "kernelspec": {
   "display_name": "final",
   "language": "python",
   "name": "python3"
  },
  "language_info": {
   "codemirror_mode": {
    "name": "ipython",
    "version": 3
   },
   "file_extension": ".py",
   "mimetype": "text/x-python",
   "name": "python",
   "nbconvert_exporter": "python",
   "pygments_lexer": "ipython3",
   "version": "3.10.18"
  }
 },
 "nbformat": 4,
 "nbformat_minor": 5
}
